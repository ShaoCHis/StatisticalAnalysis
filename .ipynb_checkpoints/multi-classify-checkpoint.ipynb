{
 "cells": [
  {
   "cell_type": "code",
   "execution_count": 1,
   "metadata": {},
   "outputs": [],
   "source": [
    "from sklearn.datasets import load_iris\n",
    "from sklearn.svm import SVC\n",
    "from sklearn.tree import DecisionTreeClassifier\n",
    "from sklearn.model_selection import train_test_split\n",
    "from feature2 import getData\n",
    "import matplotlib.pyplot as plt"
   ]
  },
  {
   "cell_type": "code",
   "execution_count": 2,
   "metadata": {},
   "outputs": [
    {
     "name": "stdout",
     "output_type": "stream",
     "text": [
      "      eye  mouth\n",
      "0    0.32    2.0\n",
      "1    0.84    0.0\n",
      "2    0.62    0.0\n",
      "3    0.12    0.0\n",
      "4    0.30    2.0\n",
      "..    ...    ...\n",
      "482  0.24    0.0\n",
      "483  0.18    0.0\n",
      "484  0.44    0.0\n",
      "485  0.46    5.0\n",
      "486  0.22    4.0\n",
      "\n",
      "[487 rows x 2 columns] 0      0.0\n",
      "1      0.0\n",
      "2      0.0\n",
      "3      0.0\n",
      "4      0.0\n",
      "      ... \n",
      "482    2.0\n",
      "483    0.0\n",
      "484    0.0\n",
      "485    0.0\n",
      "486    0.0\n",
      "Name: label, Length: 487, dtype: float64\n"
     ]
    }
   ],
   "source": [
    "attr=['eye','mouth','label']\n",
    "data=getData()\n",
    "print(data[attr[:2]],data['label'])\n",
    "X_train,X_test,Y_train,Y_test = train_test_split(data[attr[:3]],data['label'],train_size=0.80)"
   ]
  },
  {
   "cell_type": "code",
   "execution_count": 3,
   "metadata": {},
   "outputs": [
    {
     "name": "stdout",
     "output_type": "stream",
     "text": [
      "(389, 3)\n"
     ]
    }
   ],
   "source": [
    "print(X_train.shape)"
   ]
  },
  {
   "cell_type": "code",
   "execution_count": 4,
   "metadata": {},
   "outputs": [
    {
     "name": "stderr",
     "output_type": "stream",
     "text": [
      "D:\\anaconda3_latest\\lib\\site-packages\\sklearn\\utils\\validation.py:67: FutureWarning: Pass C=3 as keyword args. From version 0.25 passing these as positional arguments will result in an error\n",
      "  warnings.warn(\"Pass {} as keyword args. From version 0.25 \"\n"
     ]
    }
   ],
   "source": [
    "#tr_cls=DecisionTreeClassifier()\n",
    "tr_cls=SVC(3)"
   ]
  },
  {
   "cell_type": "code",
   "execution_count": 5,
   "metadata": {
    "scrolled": false
   },
   "outputs": [
    {
     "data": {
      "text/plain": [
       "SVC(C=3)"
      ]
     },
     "execution_count": 5,
     "metadata": {},
     "output_type": "execute_result"
    }
   ],
   "source": [
    "tr_cls.fit(X_train,Y_train.astype('int'))"
   ]
  },
  {
   "cell_type": "code",
   "execution_count": 6,
   "metadata": {},
   "outputs": [
    {
     "data": {
      "text/plain": [
       "1.0"
      ]
     },
     "execution_count": 6,
     "metadata": {},
     "output_type": "execute_result"
    }
   ],
   "source": [
    "tr_cls.score(X_test,Y_test)"
   ]
  },
  {
   "cell_type": "code",
   "execution_count": 7,
   "metadata": {},
   "outputs": [
    {
     "name": "stdout",
     "output_type": "stream",
     "text": [
      "235    0.0\n",
      "350    0.0\n",
      "185    1.0\n",
      "337    2.0\n",
      "248    2.0\n",
      "      ... \n",
      "468    2.0\n",
      "63     0.0\n",
      "379    2.0\n",
      "293    2.0\n",
      "156    0.0\n",
      "Name: label, Length: 98, dtype: float64\n"
     ]
    }
   ],
   "source": [
    "print(Y_test)"
   ]
  },
  {
   "cell_type": "code",
   "execution_count": 8,
   "metadata": {},
   "outputs": [
    {
     "name": "stdout",
     "output_type": "stream",
     "text": [
      "[0 0 1 2 2 0 2 0 0 0 2 2 0 1 0 2 0 1 0 0 1 0 2 0 1 2 2 0 1 2 0 1 2 0 0 0 2\n",
      " 2 1 0 2 0 2 2 2 0 0 2 2 2 1 0 0 0 0 0 0 2 0 1 0 2 1 0 0 1 0 2 0 1 1 0 0 0\n",
      " 1 2 2 0 0 0 2 2 0 0 2 1 2 1 0 0 0 0 2 2 0 2 2 0]\n"
     ]
    }
   ],
   "source": [
    "print(tr_cls.predict(X_test))"
   ]
  },
  {
   "cell_type": "code",
   "execution_count": 9,
   "metadata": {},
   "outputs": [
    {
     "name": "stdout",
     "output_type": "stream",
     "text": [
      "442    0.0\n",
      "198    1.0\n",
      "128    0.0\n",
      "341    2.0\n",
      "7      0.0\n",
      "      ... \n",
      "287    0.0\n",
      "322    2.0\n",
      "168    0.0\n",
      "111    0.0\n",
      "158    2.0\n",
      "Name: label, Length: 389, dtype: float64\n"
     ]
    }
   ],
   "source": [
    "print(Y_train)"
   ]
  },
  {
   "cell_type": "code",
   "execution_count": 10,
   "metadata": {},
   "outputs": [
    {
     "name": "stdout",
     "output_type": "stream",
     "text": [
      "235    0.04\n",
      "350    0.54\n",
      "185    0.26\n",
      "337    0.24\n",
      "248    0.16\n",
      "       ... \n",
      "468    0.06\n",
      "63     0.14\n",
      "379    0.28\n",
      "293    0.22\n",
      "156    0.42\n",
      "Name: eye, Length: 98, dtype: float64\n"
     ]
    }
   ],
   "source": [
    "print(X_test['eye'])"
   ]
  },
  {
   "cell_type": "code",
   "execution_count": 11,
   "metadata": {},
   "outputs": [
    {
     "data": {
      "text/plain": [
       "<matplotlib.collections.PathCollection at 0x215f63b1a00>"
      ]
     },
     "execution_count": 11,
     "metadata": {},
     "output_type": "execute_result"
    },
    {
     "data": {
      "image/png": "[encoded data removed]",
      "text/plain": [
       "<Figure size 432x288 with 1 Axes>"
      ]
     },
     "metadata": {
      "needs_background": "light"
     },
     "output_type": "display_data"
    }
   ],
   "source": [
    "plt.scatter(X_test['eye'],X_test['mouth'])"
   ]
  },
  {
   "cell_type": "code",
   "execution_count": null,
   "metadata": {},
   "outputs": [],
   "source": []
  }
 ],
 "metadata": {
  "kernelspec": {
   "display_name": "Python 3",
   "language": "python",
   "name": "python3"
  },
  "language_info": {
   "codemirror_mode": {
    "name": "ipython",
    "version": 3
   },
   "file_extension": ".py",
   "mimetype": "text/x-python",
   "name": "python",
   "nbconvert_exporter": "python",
   "pygments_lexer": "ipython3",
   "version": "3.8.5"
  }
 },
 "nbformat": 4,
 "nbformat_minor": 4
}
